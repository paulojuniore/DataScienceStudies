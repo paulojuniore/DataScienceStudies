{
 "cells": [
  {
   "cell_type": "code",
   "execution_count": 1,
   "metadata": {},
   "outputs": [],
   "source": [
    "import numpy as np\n",
    "import pandas as pd"
   ]
  },
  {
   "cell_type": "code",
   "execution_count": 14,
   "metadata": {},
   "outputs": [],
   "source": [
    "import seaborn as sns"
   ]
  },
  {
   "cell_type": "code",
   "execution_count": 24,
   "metadata": {},
   "outputs": [],
   "source": [
    "import matplotlib.pyplot as plt\n",
    "plt.style.use(\"ggplot\")"
   ]
  },
  {
   "cell_type": "code",
   "execution_count": 3,
   "metadata": {},
   "outputs": [],
   "source": [
    "%matplotlib inline"
   ]
  },
  {
   "cell_type": "code",
   "execution_count": 41,
   "metadata": {},
   "outputs": [],
   "source": [
    "df1 = pd.read_csv(\"df1\", index_col=0)"
   ]
  },
  {
   "cell_type": "code",
   "execution_count": 7,
   "metadata": {},
   "outputs": [],
   "source": [
    "df2 = pd.read_csv(\"df2\")"
   ]
  },
  {
   "cell_type": "code",
   "execution_count": 8,
   "metadata": {},
   "outputs": [
    {
     "data": {
      "text/html": [
       "<div>\n",
       "<style scoped>\n",
       "    .dataframe tbody tr th:only-of-type {\n",
       "        vertical-align: middle;\n",
       "    }\n",
       "\n",
       "    .dataframe tbody tr th {\n",
       "        vertical-align: top;\n",
       "    }\n",
       "\n",
       "    .dataframe thead th {\n",
       "        text-align: right;\n",
       "    }\n",
       "</style>\n",
       "<table border=\"1\" class=\"dataframe\">\n",
       "  <thead>\n",
       "    <tr style=\"text-align: right;\">\n",
       "      <th></th>\n",
       "      <th>A</th>\n",
       "      <th>B</th>\n",
       "      <th>C</th>\n",
       "      <th>D</th>\n",
       "    </tr>\n",
       "  </thead>\n",
       "  <tbody>\n",
       "    <tr>\n",
       "      <td>2000-01-01</td>\n",
       "      <td>1.339091</td>\n",
       "      <td>-0.163643</td>\n",
       "      <td>-0.646443</td>\n",
       "      <td>1.041233</td>\n",
       "    </tr>\n",
       "    <tr>\n",
       "      <td>2000-01-02</td>\n",
       "      <td>-0.774984</td>\n",
       "      <td>0.137034</td>\n",
       "      <td>-0.882716</td>\n",
       "      <td>-2.253382</td>\n",
       "    </tr>\n",
       "    <tr>\n",
       "      <td>2000-01-03</td>\n",
       "      <td>-0.921037</td>\n",
       "      <td>-0.482943</td>\n",
       "      <td>-0.417100</td>\n",
       "      <td>0.478638</td>\n",
       "    </tr>\n",
       "    <tr>\n",
       "      <td>2000-01-04</td>\n",
       "      <td>-1.738808</td>\n",
       "      <td>-0.072973</td>\n",
       "      <td>0.056517</td>\n",
       "      <td>0.015085</td>\n",
       "    </tr>\n",
       "    <tr>\n",
       "      <td>2000-01-05</td>\n",
       "      <td>-0.905980</td>\n",
       "      <td>1.778576</td>\n",
       "      <td>0.381918</td>\n",
       "      <td>0.291436</td>\n",
       "    </tr>\n",
       "    <tr>\n",
       "      <td>...</td>\n",
       "      <td>...</td>\n",
       "      <td>...</td>\n",
       "      <td>...</td>\n",
       "      <td>...</td>\n",
       "    </tr>\n",
       "    <tr>\n",
       "      <td>2002-09-22</td>\n",
       "      <td>1.013897</td>\n",
       "      <td>-0.288680</td>\n",
       "      <td>-0.342295</td>\n",
       "      <td>-0.638537</td>\n",
       "    </tr>\n",
       "    <tr>\n",
       "      <td>2002-09-23</td>\n",
       "      <td>-0.642659</td>\n",
       "      <td>-0.104725</td>\n",
       "      <td>-0.631829</td>\n",
       "      <td>-0.909483</td>\n",
       "    </tr>\n",
       "    <tr>\n",
       "      <td>2002-09-24</td>\n",
       "      <td>0.370136</td>\n",
       "      <td>0.233219</td>\n",
       "      <td>0.535897</td>\n",
       "      <td>-1.552605</td>\n",
       "    </tr>\n",
       "    <tr>\n",
       "      <td>2002-09-25</td>\n",
       "      <td>0.183339</td>\n",
       "      <td>1.285783</td>\n",
       "      <td>-1.052593</td>\n",
       "      <td>-2.565844</td>\n",
       "    </tr>\n",
       "    <tr>\n",
       "      <td>2002-09-26</td>\n",
       "      <td>0.775133</td>\n",
       "      <td>-0.850374</td>\n",
       "      <td>0.486728</td>\n",
       "      <td>-1.053427</td>\n",
       "    </tr>\n",
       "  </tbody>\n",
       "</table>\n",
       "<p>1000 rows × 4 columns</p>\n",
       "</div>"
      ],
      "text/plain": [
       "                   A         B         C         D\n",
       "2000-01-01  1.339091 -0.163643 -0.646443  1.041233\n",
       "2000-01-02 -0.774984  0.137034 -0.882716 -2.253382\n",
       "2000-01-03 -0.921037 -0.482943 -0.417100  0.478638\n",
       "2000-01-04 -1.738808 -0.072973  0.056517  0.015085\n",
       "2000-01-05 -0.905980  1.778576  0.381918  0.291436\n",
       "...              ...       ...       ...       ...\n",
       "2002-09-22  1.013897 -0.288680 -0.342295 -0.638537\n",
       "2002-09-23 -0.642659 -0.104725 -0.631829 -0.909483\n",
       "2002-09-24  0.370136  0.233219  0.535897 -1.552605\n",
       "2002-09-25  0.183339  1.285783 -1.052593 -2.565844\n",
       "2002-09-26  0.775133 -0.850374  0.486728 -1.053427\n",
       "\n",
       "[1000 rows x 4 columns]"
      ]
     },
     "execution_count": 8,
     "metadata": {},
     "output_type": "execute_result"
    }
   ],
   "source": [
    "df1"
   ]
  },
  {
   "cell_type": "code",
   "execution_count": 25,
   "metadata": {},
   "outputs": [
    {
     "data": {
      "text/plain": [
       "<matplotlib.axes._subplots.AxesSubplot at 0x22cd93fc388>"
      ]
     },
     "execution_count": 25,
     "metadata": {},
     "output_type": "execute_result"
    },
    {
     "data": {
      "image/png": "[encoded data removed]",
      "text/plain": [
       "<Figure size 432x288 with 1 Axes>"
      ]
     },
     "metadata": {},
     "output_type": "display_data"
    }
   ],
   "source": [
    "df1['A'].hist()"
   ]
  },
  {
   "cell_type": "code",
   "execution_count": 26,
   "metadata": {},
   "outputs": [
    {
     "data": {
      "text/html": [
       "<div>\n",
       "<style scoped>\n",
       "    .dataframe tbody tr th:only-of-type {\n",
       "        vertical-align: middle;\n",
       "    }\n",
       "\n",
       "    .dataframe tbody tr th {\n",
       "        vertical-align: top;\n",
       "    }\n",
       "\n",
       "    .dataframe thead th {\n",
       "        text-align: right;\n",
       "    }\n",
       "</style>\n",
       "<table border=\"1\" class=\"dataframe\">\n",
       "  <thead>\n",
       "    <tr style=\"text-align: right;\">\n",
       "      <th></th>\n",
       "      <th>a</th>\n",
       "      <th>b</th>\n",
       "      <th>c</th>\n",
       "      <th>d</th>\n",
       "    </tr>\n",
       "  </thead>\n",
       "  <tbody>\n",
       "    <tr>\n",
       "      <td>0</td>\n",
       "      <td>0.039762</td>\n",
       "      <td>0.218517</td>\n",
       "      <td>0.103423</td>\n",
       "      <td>0.957904</td>\n",
       "    </tr>\n",
       "    <tr>\n",
       "      <td>1</td>\n",
       "      <td>0.937288</td>\n",
       "      <td>0.041567</td>\n",
       "      <td>0.899125</td>\n",
       "      <td>0.977680</td>\n",
       "    </tr>\n",
       "    <tr>\n",
       "      <td>2</td>\n",
       "      <td>0.780504</td>\n",
       "      <td>0.008948</td>\n",
       "      <td>0.557808</td>\n",
       "      <td>0.797510</td>\n",
       "    </tr>\n",
       "    <tr>\n",
       "      <td>3</td>\n",
       "      <td>0.672717</td>\n",
       "      <td>0.247870</td>\n",
       "      <td>0.264071</td>\n",
       "      <td>0.444358</td>\n",
       "    </tr>\n",
       "    <tr>\n",
       "      <td>4</td>\n",
       "      <td>0.053829</td>\n",
       "      <td>0.520124</td>\n",
       "      <td>0.552264</td>\n",
       "      <td>0.190008</td>\n",
       "    </tr>\n",
       "  </tbody>\n",
       "</table>\n",
       "</div>"
      ],
      "text/plain": [
       "          a         b         c         d\n",
       "0  0.039762  0.218517  0.103423  0.957904\n",
       "1  0.937288  0.041567  0.899125  0.977680\n",
       "2  0.780504  0.008948  0.557808  0.797510\n",
       "3  0.672717  0.247870  0.264071  0.444358\n",
       "4  0.053829  0.520124  0.552264  0.190008"
      ]
     },
     "execution_count": 26,
     "metadata": {},
     "output_type": "execute_result"
    }
   ],
   "source": [
    "df2.head()"
   ]
  },
  {
   "cell_type": "code",
   "execution_count": 28,
   "metadata": {},
   "outputs": [
    {
     "data": {
      "text/plain": [
       "<matplotlib.axes._subplots.AxesSubplot at 0x22cd952fd88>"
      ]
     },
     "execution_count": 28,
     "metadata": {},
     "output_type": "execute_result"
    },
    {
     "data": {
      "image/png": "[encoded data removed]",
      "text/plain": [
       "<Figure size 432x288 with 1 Axes>"
      ]
     },
     "metadata": {},
     "output_type": "display_data"
    }
   ],
   "source": [
    "df2.plot.area(alpha=0.4)"
   ]
  },
  {
   "cell_type": "code",
   "execution_count": 34,
   "metadata": {},
   "outputs": [
    {
     "data": {
      "text/plain": [
       "<matplotlib.axes._subplots.AxesSubplot at 0x22cd8f8a888>"
      ]
     },
     "execution_count": 34,
     "metadata": {},
     "output_type": "execute_result"
    },
    {
     "data": {
      "image/png": "[encoded data removed]",
      "text/plain": [
       "<Figure size 432x288 with 1 Axes>"
      ]
     },
     "metadata": {},
     "output_type": "display_data"
    }
   ],
   "source": [
    "df2.plot.bar(stacked=True)"
   ]
  },
  {
   "cell_type": "code",
   "execution_count": 36,
   "metadata": {},
   "outputs": [
    {
     "data": {
      "text/plain": [
       "<matplotlib.axes._subplots.AxesSubplot at 0x22cd8f0bf48>"
      ]
     },
     "execution_count": 36,
     "metadata": {},
     "output_type": "execute_result"
    },
    {
     "data": {
      "image/png": "[encoded data removed]",
      "text/plain": [
       "<Figure size 432x288 with 1 Axes>"
      ]
     },
     "metadata": {},
     "output_type": "display_data"
    }
   ],
   "source": [
    "df1['A'].plot.hist(bins=50)"
   ]
  },
  {
   "cell_type": "code",
   "execution_count": null,
   "metadata": {},
   "outputs": [],
   "source": []
  }
 ],
 "metadata": {
  "kernelspec": {
   "display_name": "Python 3",
   "language": "python",
   "name": "python3"
  },
  "language_info": {
   "codemirror_mode": {
    "name": "ipython",
    "version": 3
   },
   "file_extension": ".py",
   "mimetype": "text/x-python",
   "name": "python",
   "nbconvert_exporter": "python",
   "pygments_lexer": "ipython3",
   "version": "3.7.4"
  }
 },
 "nbformat": 4,
 "nbformat_minor": 2
}
